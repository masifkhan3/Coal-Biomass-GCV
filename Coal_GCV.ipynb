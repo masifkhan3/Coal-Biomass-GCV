{
  "nbformat": 4,
  "nbformat_minor": 0,
  "metadata": {
    "colab": {
      "provenance": [],
      "authorship_tag": "ABX9TyNjGvIfuwcMPKZQZHPOYu3e",
      "include_colab_link": true
    },
    "kernelspec": {
      "name": "python3",
      "display_name": "Python 3"
    },
    "language_info": {
      "name": "python"
    }
  },
  "cells": [
    {
      "cell_type": "markdown",
      "metadata": {
        "id": "view-in-github",
        "colab_type": "text"
      },
      "source": [
        "<a href=\"https://colab.research.google.com/github/masifkhan3/Coal-Biomass-GCV/blob/main/Coal_GCV.ipynb\" target=\"_parent\"><img src=\"https://colab.research.google.com/assets/colab-badge.svg\" alt=\"Open In Colab\"/></a>"
      ]
    },
    {
      "cell_type": "code",
      "source": [],
      "metadata": {
        "id": "moD8fbjbY6NH"
      },
      "execution_count": null,
      "outputs": []
    },
    {
      "cell_type": "markdown",
      "source": [
        "for Coal & Biomass"
      ],
      "metadata": {
        "id": "lTinsPvmTJ0Y"
      }
    },
    {
      "cell_type": "code",
      "source": [
        "def calculate_coal_gcv(fixed_carbon, volatile_matter, total_moisture, inherent_moisture, ash_content, sulfur):\n",
        "    \"\"\"\n",
        "    Function to calculate the Gross Calorific Value (GCV) of coal\n",
        "    based on the composition including Fixed Carbon, Volatile Matter,\n",
        "    Total Moisture, Inherent Moisture, Ash Content, and Sulfur content.\n",
        "    \"\"\"\n",
        "    # Constants for GCV calculation\n",
        "    fixed_carbon_factor = 9900  # kcal/kg\n",
        "    volatile_matter_factor = 3550  # kcal/kg\n",
        "    sulfur_factor = 2400  # kcal/kg\n",
        "    ash_factor = 100  # kcal/kg (negative impact on GCV)\n",
        "\n",
        "    # Dry GCV formula (before moisture adjustment)\n",
        "    dry_gcv = ((fixed_carbon / 100 * fixed_carbon_factor) +\n",
        "               (volatile_matter / 100 * volatile_matter_factor) +\n",
        "               (sulfur / 100 * sulfur_factor) -\n",
        "               (ash_content / 100 * ash_factor))\n",
        "\n",
        "    # Adjust GCV for inherent moisture (on dry basis)\n",
        "    gcv_dry_basis = dry_gcv * (1 - inherent_moisture / 100)  # Adjust for inherent moisture\n",
        "\n",
        "    # Adjust GCV for total moisture (moisture reduces the effective heat content)\n",
        "    gcv = gcv_dry_basis * (1 - total_moisture / 100)  # Correct moisture adjustment\n",
        "\n",
        "    return gcv\n",
        "\n",
        "\n",
        "def calculate_biomass_gcv(fixed_carbon, volatile_matter, total_moisture, inherent_moisture, ash_content, sulfur):\n",
        "    \"\"\"\n",
        "    Function to calculate the Gross Calorific Value (GCV) of biomass\n",
        "    based on the composition including Fixed Carbon, Volatile Matter,\n",
        "    Total Moisture, Inherent Moisture, Ash Content, and Sulfur content.\n",
        "    \"\"\"\n",
        "    # Constants for GCV calculation\n",
        "    fixed_carbon_factor = 7500  # kcal/kg (average value for biomass)\n",
        "    volatile_matter_factor = 3500  # kcal/kg (average value for biomass)\n",
        "    sulfur_factor = 2000  # kcal/kg (average value for biomass)\n",
        "    ash_factor = 100  # kcal/kg (negative impact on GCV)\n",
        "\n",
        "    # Dry GCV formula (before moisture adjustment)\n",
        "    dry_gcv = ((fixed_carbon / 100 * fixed_carbon_factor) +\n",
        "               (volatile_matter / 100 * volatile_matter_factor) +\n",
        "               (sulfur / 100 * sulfur_factor) -\n",
        "               (ash_content / 100 * ash_factor))\n",
        "\n",
        "    # Adjust GCV for inherent moisture (on dry basis)\n",
        "    gcv_dry_basis = dry_gcv * (1 - inherent_moisture / 100)  # Adjust for inherent moisture\n",
        "\n",
        "    # Adjust GCV for total moisture (total moisture reduction)\n",
        "    gcv_total_adjusted = gcv_dry_basis * (1 - total_moisture / 100)\n",
        "\n",
        "    return gcv_total_adjusted\n",
        "\n",
        "\n",
        "def main():\n",
        "    print(\"Welcome to the GCV Calculator!\")\n",
        "    print(\"Select the type of fuel:\")\n",
        "    print(\"1. Coal\")\n",
        "    print(\"2. Biomass\")\n",
        "\n",
        "    choice = input(\"Enter your choice (1 or 2): \")\n",
        "\n",
        "    if choice == '1':\n",
        "        print(\"\\n--- Coal GCV Calculation ---\")\n",
        "        fixed_carbon = float(input(\"Enter the percentage of Fixed Carbon: \"))   # Example: 50\n",
        "        volatile_matter = float(input(\"Enter the percentage of Volatile Matter: \"))  # Example: 25\n",
        "        total_moisture = float(input(\"Enter the percentage of Total Moisture: \"))  # Example: 10\n",
        "        inherent_moisture = float(input(\"Enter the percentage of Inherent Moisture: \"))  # Example: 5\n",
        "        ash_content = float(input(\"Enter the percentage of Ash Content: \"))  # Example: 15\n",
        "        sulfur = float(input(\"Enter the percentage of Sulfur: \"))  # Example: 1\n",
        "\n",
        "        gcv = calculate_coal_gcv(fixed_carbon, volatile_matter, total_moisture, inherent_moisture, ash_content, sulfur)\n",
        "        print(f\"\\nThe Gross Calorific Value (GCV) of coal is: {gcv:.2f} kcal/kg\")\n",
        "\n",
        "    elif choice == '2':\n",
        "        print(\"\\n--- Biomass GCV Calculation ---\")\n",
        "        fixed_carbon = float(input(\"Enter the percentage of Fixed Carbon: \"))   # Example: 50\n",
        "        volatile_matter = float(input(\"Enter the percentage of Volatile Matter: \"))  # Example: 25\n",
        "        total_moisture = float(input(\"Enter the percentage of Total Moisture: \"))  # Example: 10\n",
        "        inherent_moisture = float(input(\"Enter the percentage of Inherent Moisture: \"))  # Example: 5\n",
        "        ash_content = float(input(\"Enter the percentage of Ash Content: \"))  # Example: 15\n",
        "        sulfur = float(input(\"Enter the percentage of Sulfur: \"))  # Example: 1\n",
        "\n",
        "        gcv = calculate_biomass_gcv(fixed_carbon, volatile_matter, total_moisture, inherent_moisture, ash_content, sulfur)\n",
        "        print(f\"\\nThe Gross Calorific Value (GCV) of biomass is: {gcv:.2f} kcal/kg\")\n",
        "\n",
        "    else:\n",
        "        print(\"Invalid choice. Please select either 1 for Coal or 2 for Biomass.\")\n",
        "\n",
        "\n",
        "if __name__ == \"__main__\":\n",
        "    main()\n"
      ],
      "metadata": {
        "colab": {
          "base_uri": "https://localhost:8080/"
        },
        "id": "4JDkO117YHYE",
        "outputId": "fbf91a7a-1f94-454c-cb69-99af01a2d820"
      },
      "execution_count": null,
      "outputs": [
        {
          "output_type": "stream",
          "name": "stdout",
          "text": [
            "Welcome to the GCV Calculator!\n",
            "Select the type of fuel:\n",
            "1. Coal\n",
            "2. Biomass\n"
          ]
        }
      ]
    }
  ]
}